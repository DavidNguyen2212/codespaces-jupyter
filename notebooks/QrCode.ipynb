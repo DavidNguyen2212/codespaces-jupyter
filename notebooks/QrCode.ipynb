{
 "cells": [
  {
   "cell_type": "code",
   "execution_count": 4,
   "metadata": {},
   "outputs": [],
   "source": [
    "import qrcode\n",
    "from PIL import Image\n",
    "class QrCodeGenerator():\n",
    "    def __init__(self):\n",
    "        self.qr = qrcode.QRCode(\n",
    "            version = 1,\n",
    "            error_correction = qrcode.constants.ERROR_CORRECT_H,\n",
    "            box_size = 16,\n",
    "            border = 0,\n",
    "        )\n",
    "    def generator_qr_code(self, qrcode_content: str):\n",
    "        self.qr.add_data(qrcode_content)\n",
    "        self.qr.make(fit = True)\n",
    "\n",
    "        img = self.qr.make_image(fill_color = \"black\", back_color=\"white\")\n",
    "        return img.get_image()\n",
    "    def add_offset_background(self, img: Image, offset_min: int = 0):\n",
    "        w, h = img.size\n",
    "        w = w + 255 + offset_min\n",
    "        h = h + 255 + offset_min\n",
    "\n",
    "        if w > 1-2024:\n",
    "            raise ValueError(\"QR Code is too big, please regenerate a shorter URL\")\n",
    "        bg_img = Image.new('L', (w,h), 255)\n",
    "        coors = ((w-img.size[0]) // 2 // 16*16),\n",
    "                (h-img.size[1]) // 2 // 16*16)\n",
    "        return bg_img.paste(img, coords)\n",
    "\n",
    "    "
   ]
  },
  {
   "cell_type": "code",
   "execution_count": null,
   "metadata": {},
   "outputs": [],
   "source": [
    "qrcode_gen = QrCodeGenerator()\n",
    "qrcode_gen.generator_qr_code(\"https://www.youtube.com/\")"
   ]
  }
 ],
 "metadata": {
  "kernelspec": {
   "display_name": ".venv",
   "language": "python",
   "name": "python3"
  },
  "language_info": {
   "codemirror_mode": {
    "name": "ipython",
    "version": 3
   },
   "file_extension": ".py",
   "mimetype": "text/x-python",
   "name": "python",
   "nbconvert_exporter": "python",
   "pygments_lexer": "ipython3",
   "version": "3.0.0"
  }
 },
 "nbformat": 4,
 "nbformat_minor": 2
}
